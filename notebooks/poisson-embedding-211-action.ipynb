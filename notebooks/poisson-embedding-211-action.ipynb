{
 "cells": [
  {
   "cell_type": "code",
   "execution_count": 1,
   "metadata": {
    "collapsed": true
   },
   "outputs": [],
   "source": [
    "import sys\n",
    "from importlib import reload\n",
    "import sympy\n",
    "from itertools import product\n",
    "from collections import defaultdict"
   ]
  },
  {
   "cell_type": "code",
   "execution_count": 2,
   "metadata": {
    "collapsed": true
   },
   "outputs": [],
   "source": [
    "sys.path.insert(0, '../')"
   ]
  },
  {
   "cell_type": "code",
   "execution_count": 3,
   "metadata": {
    "collapsed": false
   },
   "outputs": [],
   "source": [
    "import multivector as mv\n",
    "import examples as ex\n",
    "import embedding as emb"
   ]
  },
  {
   "cell_type": "markdown",
   "metadata": {},
   "source": [
    "```\n",
    "t*(x0,x1,x2,y0,y1,y2) = (t^2*x0, t*x1, t*x2, t-2*y0, t^-1*y1, t^-1*y2)\n",
    "\n",
    "invariants:\n",
    "x0*y0\n",
    "x1*y1\n",
    "x2*y2\n",
    "x1*y2\n",
    "x2*y1\n",
    "x0*y1^2\n",
    "x0*y1*y2\n",
    "x0*y2^2\n",
    "y0*x1^2\n",
    "y0*x1*x2\n",
    "y0*x2^2\n",
    "```"
   ]
  },
  {
   "cell_type": "code",
   "execution_count": 4,
   "metadata": {
    "collapsed": false
   },
   "outputs": [],
   "source": [
    "q = sympy.symbols(tuple('q%d' %x for x in range(5)))\n",
    "a = sympy.symbols(tuple('a%d' %x for x in range(3)))\n",
    "b = sympy.symbols(tuple('b%d' %x for x in range(3)))\n",
    "#z = sympy.symbols('z0 z1')\n",
    "\n",
    "x = sympy.symbols('x0 x1 x2')\n",
    "y = sympy.symbols('y0 y1 y2')\n",
    "stdbrac = mv.Mv(x+y, {(x[0],y[0]):1, (x[1],y[1]):1, (x[2],y[2]):1}).brac"
   ]
  },
  {
   "cell_type": "code",
   "execution_count": 65,
   "metadata": {
    "collapsed": false
   },
   "outputs": [],
   "source": [
    "rmap = {\n",
    "    q[0]: x[0]*y[0], \n",
    "    q[1]: x[1]*y[1],\n",
    "    q[2]: x[2]*y[2],\n",
    "    q[3]: x[1]*y[2],\n",
    "    q[4]: x[2]*y[1],\n",
    "    a[0]: x[0]*(y[1]**2),\n",
    "    a[1]: x[0]*(y[1]*y[2]),\n",
    "    a[2]: x[0]*(y[2]**2),\n",
    "    b[0]: y[0]*(x[1]**2),\n",
    "    b[1]: y[0]*(x[1]*x[2]),\n",
    "    b[2]: y[0]*(x[2]**2)\n",
    "}\n",
    "\n",
    "embcoords, invariants = list(zip(*rmap.items()))"
   ]
  },
  {
   "cell_type": "code",
   "execution_count": 66,
   "metadata": {
    "collapsed": false
   },
   "outputs": [],
   "source": [
    "gbK = sympy.polys.groebner([ai-xi for (ai,xi) in rmap.items()])\n",
    "K = [g for g in gbK if not (set(g.as_poly().gens) - set(embcoords))]"
   ]
  },
  {
   "cell_type": "code",
   "execution_count": 91,
   "metadata": {
    "collapsed": false
   },
   "outputs": [
    {
     "data": {
      "text/plain": [
       "{-a0*b2 + q0*q4**2: 0,\n",
       " b0*b2 - b1**2: 2,\n",
       " a0*b2*q3 - a1*b1*q4: 0,\n",
       " -a2*b2 + q0*q2**2: 0,\n",
       " -b1*q4 + b2*q1: 1,\n",
       " -a1*b0 + q0*q1*q3: 0,\n",
       " -a0*b1 + q0*q1*q4: 0,\n",
       " -a1*q3 + a2*q1: -1,\n",
       " -a0*b0 + q0*q1**2: 0,\n",
       " a0*b1*q3 - a1*b0*q4: 0,\n",
       " -a1*b2 + q0*q2*q4: 0,\n",
       " b0*q2 - b1*q3: 1,\n",
       " -a1*b1 + q0*q3*q4: 0,\n",
       " -a2*b1 + q0*q2*q3: 0,\n",
       " a0*a2 - a1**2: -2,\n",
       " a1*q2 - a2*q4: -1,\n",
       " -b0*q4 + b1*q1: 1,\n",
       " -a2*b0 + q0*q3**2: 0,\n",
       " q1*q2 - q3*q4: 0,\n",
       " a1*b2*q3 - a2*b1*q4: 0,\n",
       " a0*q2 - a1*q4: -1,\n",
       " b1*q2 - b2*q3: 1,\n",
       " a1*b1*q3 - a2*b0*q4: 0,\n",
       " -a0*q3 + a1*q1: -1}"
      ]
     },
     "execution_count": 91,
     "metadata": {},
     "output_type": "execute_result"
    }
   ],
   "source": [
    "{k:(Pi1.brac(q[0], k)/k).simplify() for k in K}"
   ]
  },
  {
   "cell_type": "code",
   "execution_count": 95,
   "metadata": {
    "collapsed": false
   },
   "outputs": [
    {
     "data": {
      "text/plain": [
       "{-a0*b2 + q0*q4**2: 2,\n",
       " b0*b2 - b1**2: 0,\n",
       " a0*b2*q3 - a1*b1*q4: 1,\n",
       " -a2*b2 + q0*q2**2: 0,\n",
       " -b1*q4 + b2*q1: 1,\n",
       " -a1*b0 + q0*q1*q3: -1,\n",
       " -a0*b1 + q0*q1*q4: 1,\n",
       " -a1*q3 + a2*q1: -1,\n",
       " -a0*b0 + q0*q1**2: 0,\n",
       " a0*b1*q3 - a1*b0*q4: 0,\n",
       " -a1*b2 + q0*q2*q4: 1,\n",
       " b0*q2 - b1*q3: -1,\n",
       " -a1*b1 + q0*q3*q4: 0,\n",
       " -a2*b1 + q0*q2*q3: -1,\n",
       " a0*a2 - a1**2: 0,\n",
       " a1*q2 - a2*q4: 0,\n",
       " -b0*q4 + b1*q1: 0,\n",
       " -a2*b0 + q0*q3**2: -2,\n",
       " q1*q2 - q3*q4: 0,\n",
       " a1*b2*q3 - a2*b1*q4: 0,\n",
       " a0*q2 - a1*q4: 1,\n",
       " b1*q2 - b2*q3: 0,\n",
       " a1*b1*q3 - a2*b0*q4: -1,\n",
       " -a0*q3 + a1*q1: 0}"
      ]
     },
     "execution_count": 95,
     "metadata": {},
     "output_type": "execute_result"
    }
   ],
   "source": [
    "{k:(Pi1.brac((q[1] - q[2])/2, k)/k).simplify() for k in K}"
   ]
  },
  {
   "cell_type": "code",
   "execution_count": 97,
   "metadata": {
    "collapsed": false
   },
   "outputs": [],
   "source": [
    "Km = [\n",
    "    q[1]*q[2] - q[3]*q[4],\n",
    "    -1*a[2]*b[0] + q[0]*q[3]**2,\n",
    "    -1*a[2]*b[1] + q[0]*q[2]*q[3],\n",
    "    -1*a[1]*b[0] + q[0]*q[1]*q[3],\n",
    "    -1*a[2]*b[2] + q[0]*q[2]**2,\n",
    "    -1*a[1]*b[1] + q[0]*q[3]*q[4],\n",
    "    -1*a[0]*b[0] + q[0]*q[1]**2,\n",
    "    -1*a[0]*b[1] + q[0]*q[1]*q[4],\n",
    "    -1*a[1]*b[2] + q[0]*q[2]*q[4],\n",
    "    -1*a[0]*b[2] + q[0]*q[4]**2,\n",
    "    -1*a[1]*q[3] + a[2]*q[1],\n",
    "    -1*a[0]*q[3] + a[1]*q[1],\n",
    "    a[1]*q[2] - a[2]*q[4],\n",
    "    a[0]*q[2] - a[1]*q[4],\n",
    "    b[0]*q[2] - b[1]*q[3],\n",
    "    -b[0]*q[4] + b[1]*q[1],\n",
    "    b[1]*q[2] - b[2]*q[3],\n",
    "    -b[1]*q[4] + b[2]*q[1],\n",
    "    a[1]*b[1]*q[3] - a[2]*b[0]*q[4],\n",
    "    a[0]*b[1]*q[3] - a[1]*b[0]*q[4],\n",
    "    a[1]*b[2]*q[3] - a[2]*b[1]*q[4],\n",
    "    a[0]*b[2]*q[3] - a[1]*b[1]*q[4],\n",
    "    a[0]*a[2] - a[1]**2,\n",
    "    b[0]*b[2] - b[1]**2\n",
    "]"
   ]
  },
  {
   "cell_type": "code",
   "execution_count": 99,
   "metadata": {
    "collapsed": false
   },
   "outputs": [],
   "source": [
    "Kcoords = sympy.symbols(\n",
    "    ['C'] + \n",
    "    ['MQ%d' %x for x in range(9)] + \n",
    "    ['AQ%d' %x for x in range(4)] + \n",
    "    ['BQ%d' %x for x in range(4)] +\n",
    "    ['MM%d' %x for x in range(4)] + \n",
    "    ['AA%d' %x for x in range(1)] + \n",
    "    ['BB%d' %x for x in range(1)]\n",
    ")"
   ]
  },
  {
   "cell_type": "code",
   "execution_count": 114,
   "metadata": {
    "collapsed": false
   },
   "outputs": [],
   "source": [
    "KHom = dict(zip(Kcoords, Km))\n",
    "kerCoords, kerPolys = list(zip(*KHom.items()))"
   ]
  },
  {
   "cell_type": "code",
   "execution_count": null,
   "metadata": {
    "collapsed": false
   },
   "outputs": [],
   "source": []
  },
  {
   "cell_type": "code",
   "execution_count": null,
   "metadata": {
    "collapsed": true
   },
   "outputs": [],
   "source": []
  },
  {
   "cell_type": "code",
   "execution_count": null,
   "metadata": {
    "collapsed": true
   },
   "outputs": [],
   "source": []
  },
  {
   "cell_type": "code",
   "execution_count": 8,
   "metadata": {
    "collapsed": false
   },
   "outputs": [],
   "source": [
    "P = {}\n",
    "for k1, k2 in product(rmap.keys(), rmap.keys()):\n",
    "    if (k2, k1) not in P.keys():\n",
    "        P[(k1, k2)] = stdbrac(rmap[k1],rmap[k2])"
   ]
  },
  {
   "cell_type": "code",
   "execution_count": 9,
   "metadata": {
    "collapsed": false
   },
   "outputs": [],
   "source": [
    "lift = emb.lift(rmap, embcoords, x+y)"
   ]
  },
  {
   "cell_type": "code",
   "execution_count": 10,
   "metadata": {
    "collapsed": false
   },
   "outputs": [],
   "source": [
    "Pi = mv.Mv(embcoords, P).mapCoeffs(lambda x:lift(x))"
   ]
  },
  {
   "cell_type": "code",
   "execution_count": 11,
   "metadata": {
    "collapsed": false
   },
   "outputs": [
    {
     "data": {
      "text/plain": [
       "-a0*dq0*da0 + 2*a0*dq1*da0 + a0*dq4*da1 - a1*dq0*da1 + a1*dq1*da1 + a1*dq2*da1 + 2*a1*dq3*da0 + 2*a1*dq4*da2 - a2*dq0*da2 + 2*a2*dq2*da2 + a2*dq3*da1 - b0*db0*dq0 - 2*b0*dq1*db0 - b0*dq3*db1 + 2*b1*db0*dq4 + b1*dq0*db1 - b1*dq1*db1 - b1*dq2*db1 - 2*b1*dq3*db2 + b2*dq0*db2 - 2*b2*dq2*db2 - b2*dq4*db1 + q1*(4*q0 - q1)*db0*da0 + q2*(-4*q0 + q2)*da2*db2 - q3**2*db0*da2 + q3*(-2*q0 + q2)*da2*db1 + q3*(2*q0 - q1)*db0*da1 - q3*dq1*dq3 + q3*dq2*dq3 - q4**2*db2*da0 + q4*(2*q0 - q1)*db1*da0 + q4*(2*q0 - q2)*db2*da1 + q4*dq1*dq4 - q4*dq2*dq4 + (-q1 + q2)*dq3*dq4 + (q0*q1 + q2*(q0 - q1))*db1*da1"
      ]
     },
     "execution_count": 11,
     "metadata": {},
     "output_type": "execute_result"
    }
   ],
   "source": [
    "Pi.mapCoeffs(lambda x:x.simplify())"
   ]
  },
  {
   "cell_type": "code",
   "execution_count": 12,
   "metadata": {
    "collapsed": false
   },
   "outputs": [
    {
     "data": {
      "text/plain": [
       "False"
      ]
     },
     "execution_count": 12,
     "metadata": {},
     "output_type": "execute_result"
    }
   ],
   "source": [
    "mv.sBr(Pi,Pi).sort().mapCoeffs(lambda x:x.simplify()/2) == 0"
   ]
  },
  {
   "cell_type": "code",
   "execution_count": 107,
   "metadata": {
    "collapsed": false
   },
   "outputs": [],
   "source": [
    "Jac = mv.sBr(Pi,Pi).sort().mapCoeffs(lambda x:x.simplify()/2)"
   ]
  },
  {
   "cell_type": "code",
   "execution_count": null,
   "metadata": {
    "collapsed": false
   },
   "outputs": [],
   "source": []
  },
  {
   "cell_type": "code",
   "execution_count": 116,
   "metadata": {
    "collapsed": false
   },
   "outputs": [
    {
     "data": {
      "text/plain": [
       "3*AQ0*da1*da2*db1 + 4*AQ0*da2*db0*da0 + 4*AQ1*da1*db0*da0 - 4*AQ2*db2*da1*da2 - 3*AQ3*da1*db1*da0 + 4*AQ3*db2*da2*da0 - 3*BQ0*da1*db0*db1 - 4*BQ0*db2*da2*db0 + 4*BQ1*db0*db1*da0 - 4*BQ2*db2*da2*db1 + 3*BQ3*db2*da1*db1 - 4*BQ3*db2*db0*da0 - C*da1*dq4*db0 + C*da2*dq4*db1 - C*db2*da1*dq3 + C*dq3*db1*da0 + (2*AQ1 - 2*AQ2)*da2*db1*da0 + (2*BQ1 - 2*BQ2)*db2*da1*db0"
      ]
     },
     "execution_count": 116,
     "metadata": {},
     "output_type": "execute_result"
    }
   ],
   "source": [
    "Jac.mapCoeffs(liftK)"
   ]
  },
  {
   "cell_type": "code",
   "execution_count": 13,
   "metadata": {
    "collapsed": true
   },
   "outputs": [],
   "source": [
    "Pi_degs = Pi.deg()"
   ]
  },
  {
   "cell_type": "code",
   "execution_count": 133,
   "metadata": {
    "collapsed": true
   },
   "outputs": [],
   "source": [
    "reload(emb)\n",
    "liftK = emb.lift(KHom, kerCoords, embcoords)"
   ]
  },
  {
   "cell_type": "code",
   "execution_count": 16,
   "metadata": {
    "collapsed": false
   },
   "outputs": [
    {
     "name": "stdout",
     "output_type": "stream",
     "text": [
      "a0 \t a0*dq0 - 2*a0*dq1 - 2*a1*dq3 - q1*(4*q0 - q1)*db0 + q4**2*db2 - q4*(2*q0 - q1)*db1\n",
      "a1 \t -a0*dq4 + a1*dq0 - a1*dq1 - a1*dq2 - a2*dq3 - q3*(2*q0 - q1)*db0 - q4*(2*q0 - q2)*db2 + (-q0*q1 - q2*(q0 - q1))*db1\n",
      "a2 \t -2*a1*dq4 + a2*dq0 - 2*a2*dq2 - q2*(4*q0 - q2)*db2 + q3**2*db0 - q3*(2*q0 - q2)*db1\n",
      "b0 \t -b0*dq0 + 2*b0*dq1 + 2*b1*dq4 - q1*(-4*q0 + q1)*da0 - q3**2*da2 - q3*(-2*q0 + q1)*da1\n",
      "b1 \t b0*dq3 - b1*dq0 + b1*dq1 + b1*dq2 + b2*dq4 - q3*(-2*q0 + q2)*da2 - q4*(-2*q0 + q1)*da0 + (q0*q1 + q2*(q0 - q1))*da1\n",
      "b2 \t 2*b1*dq3 - b2*dq0 + 2*b2*dq2 - q2*(-4*q0 + q2)*da2 - q4**2*da0 - q4*(-2*q0 + q2)*da1\n",
      "q0 \t -a0*da0 - a1*da1 - a2*da2 + b0*db0 + b1*db1 + b2*db2\n",
      "q1 \t 2*a0*da0 + a1*da1 - 2*b0*db0 - b1*db1 - q3*dq3 + q4*dq4\n",
      "q2 \t a1*da1 + 2*a2*da2 - b1*db1 - 2*b2*db2 + q3*dq3 - q4*dq4\n",
      "q3 \t 2*a1*da0 + a2*da1 - b0*db1 - 2*b1*db2 + q3*dq1 - q3*dq2 + (-q1 + q2)*dq4\n",
      "q4 \t a0*da1 + 2*a1*da2 - 2*b1*db0 - b2*db1 - q4*dq1 + q4*dq2 + (q1 - q2)*dq3\n"
     ]
    }
   ],
   "source": [
    "for c in sorted(embcoords, key=lambda x:str(x)):\n",
    "    print(c,'\\t',-1*mv.sBr(Pi, mv.Mv(embcoords, {():c})).sort().mapCoeffs(lambda x:x.simplify()))"
   ]
  },
  {
   "cell_type": "code",
   "execution_count": 134,
   "metadata": {
    "collapsed": false,
    "scrolled": true
   },
   "outputs": [
    {
     "name": "stdout",
     "output_type": "stream",
     "text": [
      "-a0*b0 + q0*q1**2 \t -2*MQ2*dq3 + 2*MQ6*dq4 + (-AQ0*q1 - AQ1*q3)*da2 + (2*AQ1*q0 - AQ1*q1)*da1 + (-2*BQ1*q0 + BQ1*q1)*db1 + (BQ1*q4 + BQ3*q1)*db2\n",
      "\n",
      "-a1*b0 + q0*q1*q3 \t AQ0*q0*da1 - AQ0*q3*da2 - MQ0*dq3 + MQ2*dq1 - MQ2*dq2 + (-2*AQ1*q0 + AQ1*q1)*da0 + (BQ0*q0 + BQ1*q3 - C*b0)*db1 + (-BQ0*q4 - 2*BQ1*q0 + BQ3*q3)*db2 + (C*q0 + 2*MQ4 - MQ5)*dq4\n",
      "\n",
      "-a0*b1 + q0*q1*q4 \t -BQ3*q0*db1 + BQ3*q4*db2 - MQ6*dq1 + MQ6*dq2 + MQ8*dq4 + (2*BQ1*q0 - BQ1*q1)*db0 + (-AQ0*q4 + 2*AQ1*q0 + AQ3*q3)*da2 + (-AQ1*q4 - AQ3*q0 + C*a0)*da1 + (-C*q0 - 2*MQ4 + MQ5)*dq3\n",
      "\n",
      "-a2*b2 + q0*q2**2 \t 2*MQ1*dq3 - 2*MQ7*dq4 + (2*AQ2*q0 - AQ2*q2)*da1 + (-AQ2*q4 - AQ3*q2)*da0 + (BQ0*q2 + BQ2*q3)*db0 + (-2*BQ2*q0 + BQ2*q2)*db1\n",
      "\n",
      "-a2*b1 + q0*q2*q3 \t -BQ0*q0*db1 + BQ0*q3*db0 + MQ0*dq3 + MQ1*dq1 - MQ1*dq2 + (2*BQ2*q0 - BQ2*q2)*db2 + (-AQ0*q0 - AQ2*q3 + C*a2)*da1 + (AQ0*q4 + 2*AQ2*q0 - AQ3*q3)*da0 + (-C*q0 + MQ3 - 2*MQ4)*dq4\n",
      "\n",
      "-a1*b2 + q0*q2*q4 \t AQ3*q0*da1 - AQ3*q4*da0 - MQ7*dq1 + MQ7*dq2 - MQ8*dq4 + (-2*AQ2*q0 + AQ2*q2)*da2 + (BQ0*q4 - 2*BQ2*q0 - BQ3*q3)*db0 + (BQ2*q4 + BQ3*q0 - C*b2)*db1 + (C*q0 - MQ3 + 2*MQ4)*dq3\n",
      "\n",
      "-a2*b0 + q0*q3**2 \t AQ0*q3*da1 - BQ0*q3*db1 + 2*MQ0*dq1 - 2*MQ0*dq2 + (2*MQ1 - 2*MQ2)*dq4 + (-4*AQ0*q0 + AQ0*q1 + AQ1*q3)*da0 + (4*BQ0*q0 - BQ0*q2 - BQ2*q3)*db2\n",
      "\n",
      "-a1*b1 + q0*q3*q4 \t AQ1*q4*da0 + AQ2*q3*da2 - BQ1*q3*db0 - BQ2*q4*db2 + (-MQ1 + MQ2)*dq3 + (-MQ6 + MQ7)*dq4 + (-AQ1*q0 - AQ2*q0 + C*a1)*da1 + (BQ1*q0 + BQ2*q0 - C*b1)*db1\n",
      "\n",
      "-a0*b2 + q0*q4**2 \t AQ3*q4*da1 - BQ3*q4*db1 - 2*MQ8*dq1 + 2*MQ8*dq2 + (2*MQ6 - 2*MQ7)*dq3 + (AQ2*q4 - 4*AQ3*q0 + AQ3*q2)*da2 + (-BQ1*q4 + 4*BQ3*q0 - BQ3*q1)*db0\n",
      "\n",
      "q1*q2 - q3*q4 \t 2*AQ0*da2 + 2*AQ3*da0 - 2*BQ0*db0 - 2*BQ3*db2 + (AQ1 + AQ2)*da1 + (-BQ1 - BQ2)*db1\n",
      "\n",
      "-a0*q3 + a1*q1 \t -AA0*da1 - AQ0*dq3 + AQ1*dq0 - AQ1*dq1 - AQ1*dq2 - AQ3*dq4 + 2*MQ2*db0 + (C*q4 - 2*MQ6)*db2 + (-C*q0 + C*q1 + MQ4 - MQ5)*db1\n",
      "\n",
      "-a1*q3 + a2*q1 \t 2*AA0*da0 + AQ0*dq0 - 2*AQ0*dq2 + 2*MQ0*db0 + (-AQ1 - AQ2)*dq4 + (MQ1 - MQ2)*db1 + (-4*C*q0 + C*q2 - 2*MQ4)*db2\n",
      "\n",
      "-b0*q4 + b1*q1 \t BB0*db1 + BQ0*dq3 - BQ1*dq0 + BQ1*dq1 + BQ1*dq2 + BQ3*dq4 - 2*MQ6*da0 + (-C*q3 + 2*MQ2)*da2 + (C*q0 - C*q1 - MQ4 + MQ5)*da1\n",
      "\n",
      "-b1*q4 + b2*q1 \t -2*BB0*db0 - BQ3*dq0 + 2*BQ3*dq2 - 2*MQ8*da0 + (BQ1 + BQ2)*dq3 + (MQ6 - MQ7)*da1 + (4*C*q0 - C*q2 + 2*MQ4)*da2\n",
      "\n",
      "a0*q2 - a1*q4 \t 2*AA0*da2 + AQ3*dq0 - 2*AQ3*dq1 + 2*MQ8*db2 + (-AQ1 - AQ2)*dq3 + (MQ6 - MQ7)*db1 + (-4*C*q0 + C*q1 - 2*MQ4)*db0\n",
      "\n",
      "a1*q2 - a2*q4 \t -AA0*da1 - AQ0*dq3 + AQ2*dq0 - AQ2*dq1 - AQ2*dq2 - AQ3*dq4 + 2*MQ7*db2 + (C*q3 - 2*MQ1)*db0 + (-C*q0 + C*q2 - MQ3 + MQ4)*db1\n",
      "\n",
      "b0*q2 - b1*q3 \t -2*BB0*db2 - BQ0*dq0 + 2*BQ0*dq1 - 2*MQ0*da2 + (BQ1 + BQ2)*dq4 + (MQ1 - MQ2)*da1 + (4*C*q0 - C*q1 + 2*MQ4)*da0\n",
      "\n",
      "b1*q2 - b2*q3 \t BB0*db1 + BQ0*dq3 - BQ2*dq0 + BQ2*dq1 + BQ2*dq2 + BQ3*dq4 - 2*MQ1*da2 + (-C*q4 + 2*MQ7)*da0 + (C*q0 - C*q2 + MQ3 - MQ4)*da1\n",
      "\n",
      "a0*b1*q3 - a1*b0*q4 \t (2*AA0*b0 - AQ3*q3**2 + 2*MQ0*a0)*da2 + (-AQ1*b0 + BQ0*a1 - MM0)*dq3 + (2*BB0*a0 - BQ0*q4**2 + 2*MQ8*b0)*db2 + (-BQ1*a0 + BQ2*a0 + 2*MM3)*dq4 + (AQ1*q1*q4 + 2*MQ4*a0 - 4*MQ6*a1)*da0 + (BQ1*q1*q3 - 4*MQ2*b1 + 2*MQ4*b0)*db0 + (2*AA0*b1 + AQ1*q3*q4 - C*a0*q3 + MQ1*a0 + MQ2*a0 - 2*MQ4*a1)*da1 + (BB0*a1 + BQ0*q0*q4 + BQ1*q3*q4 - C*b0*q4 - MQ4*b1 + MQ6*b0)*db1\n",
      "\n",
      "a0*b2*q3 - a1*b1*q4 \t -MM3*dq1 + MM3*dq2 + (AQ1*q4**2 - 2*MQ8*a1)*da0 + (AQ3*b2 - BQ3*a0)*dq4 + (-BQ2*q4**2 + 2*MQ8*b1)*db2 + (4*AA0*b1 - AQ3*q2*q3 + 4*MQ1*a0 - 2*MQ4*a1)*da2 + (-4*BB0*a1 + BQ3*q1*q3 - 4*MQ2*b2 + 2*MQ4*b1)*db0 + (-BQ1*a1 + BQ2*a1 + 2*MM1 - MM2)*dq3 + (AA0*b2 - AQ3*q3*q4 + C*a1*q4 + 2*MQ4*a0 - MQ6*a1 - MQ7*a1)*da1 + (-BB0*a0 + BQ3*q3*q4 - C*b1*q4 - 2*MQ4*b2 + MQ6*b1 + MQ7*b1)*db1\n",
      "\n",
      "a1*b1*q3 - a2*b0*q4 \t MM0*dq1 - MM0*dq2 + (-AQ0*b0 + BQ0*a2)*dq3 + (-AQ2*q3**2 + 2*MQ0*a1)*da2 + (BQ1*q3**2 - 2*MQ0*b1)*db0 + (4*BQ0*q0*q4 - BQ0*q2*q4 + 2*MQ4*b1)*db2 + (-4*AA0*b1 + AQ0*q1*q4 + 2*MQ4*a1 - 4*MQ6*a2)*da0 + (-BQ1*a1 + BQ2*a1 - MM1 + 2*MM2)*dq4 + (-AA0*b0 + AQ0*q3*q4 - C*a1*q3 + MQ1*a1 + MQ2*a1 - 2*MQ4*a2)*da1 + (BB0*a2 - BQ0*q3*q4 + C*b1*q3 - MQ1*b1 - MQ2*b1 + 2*MQ4*b0)*db1\n",
      "\n",
      "a1*b2*q3 - a2*b1*q4 \t (-2*AA0*b2 + AQ0*q4**2 - 2*MQ8*a2)*da0 + (-AQ0*b1 + BQ2*a2 + MM0)*dq3 + (AQ2*b2 - BQ3*a1 - MM3)*dq4 + (-2*BB0*a2 + BQ3*q3**2 - 2*MQ0*b2)*db0 + (-AQ2*q2*q3 + 4*MQ1*a1 - 2*MQ4*a2)*da2 + (-BQ2*q2*q4 - 2*MQ4*b2 + 4*MQ7*b1)*db2 + (-2*AA0*b1 - AQ2*q3*q4 + C*a2*q4 + 2*MQ4*a1 - MQ6*a2 - MQ7*a2)*da1 + (-2*BB0*a1 - BQ2*q3*q4 + C*b2*q3 - MQ1*b2 - MQ2*b2 + 2*MQ4*b1)*db1\n",
      "\n",
      "a0*a2 - a1**2 \t 2*AA0*dq0 - 2*AA0*dq1 - 2*AA0*dq2 + (-4*AQ0*q0 + AQ0*q1 - AQ1*q3)*db0 + (-AQ2*q4 - 4*AQ3*q0 + AQ3*q2)*db2 + (AQ0*q4 + 2*AQ1*q0 + 2*AQ2*q0 + AQ3*q3 - 2*C*a1)*db1\n",
      "\n",
      "b0*b2 - b1**2 \t -2*BB0*dq0 + 2*BB0*dq1 + 2*BB0*dq2 + (4*BQ0*q0 - BQ0*q2 + BQ2*q3)*da2 + (BQ1*q4 + 4*BQ3*q0 - BQ3*q1)*da0 + (-BQ0*q4 - 2*BQ1*q0 - 2*BQ2*q0 - BQ3*q3 + 2*C*b1)*da1\n",
      "\n"
     ]
    }
   ],
   "source": [
    "for qk in K:\n",
    "    print(qk,'\\t',-1*mv.sBr(Pi, mv.Mv(embcoords, {():qk})).sort().mapCoeffs(liftK), end='\\n\\n')"
   ]
  },
  {
   "cell_type": "code",
   "execution_count": null,
   "metadata": {
    "collapsed": false
   },
   "outputs": [],
   "source": []
  },
  {
   "cell_type": "code",
   "execution_count": null,
   "metadata": {
    "collapsed": false
   },
   "outputs": [],
   "source": []
  },
  {
   "cell_type": "code",
   "execution_count": null,
   "metadata": {
    "collapsed": false
   },
   "outputs": [],
   "source": []
  },
  {
   "cell_type": "code",
   "execution_count": null,
   "metadata": {
    "collapsed": false
   },
   "outputs": [],
   "source": []
  },
  {
   "cell_type": "code",
   "execution_count": null,
   "metadata": {
    "collapsed": false
   },
   "outputs": [],
   "source": []
  },
  {
   "cell_type": "code",
   "execution_count": null,
   "metadata": {
    "collapsed": true
   },
   "outputs": [],
   "source": []
  },
  {
   "cell_type": "code",
   "execution_count": null,
   "metadata": {
    "collapsed": true
   },
   "outputs": [],
   "source": []
  }
 ],
 "metadata": {
  "kernelspec": {
   "display_name": "Python 3",
   "language": "python",
   "name": "python3"
  },
  "language_info": {
   "codemirror_mode": {
    "name": "ipython",
    "version": 3
   },
   "file_extension": ".py",
   "mimetype": "text/x-python",
   "name": "python",
   "nbconvert_exporter": "python",
   "pygments_lexer": "ipython3",
   "version": "3.5.2"
  }
 },
 "nbformat": 4,
 "nbformat_minor": 2
}
