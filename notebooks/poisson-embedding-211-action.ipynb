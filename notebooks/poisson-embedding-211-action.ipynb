{
 "cells": [
  {
   "cell_type": "code",
   "execution_count": 1,
   "metadata": {
    "collapsed": true
   },
   "outputs": [],
   "source": [
    "import sys\n",
    "from importlib import reload\n",
    "import sympy\n",
    "from itertools import product\n",
    "from collections import defaultdict"
   ]
  },
  {
   "cell_type": "code",
   "execution_count": 2,
   "metadata": {
    "collapsed": true
   },
   "outputs": [],
   "source": [
    "sys.path.insert(0, '../')"
   ]
  },
  {
   "cell_type": "code",
   "execution_count": 363,
   "metadata": {
    "collapsed": false
   },
   "outputs": [],
   "source": [
    "import multivector as mv\n",
    "import examples as ex\n",
    "import embedding as emb"
   ]
  },
  {
   "cell_type": "markdown",
   "metadata": {},
   "source": [
    "```\n",
    "t*(x0,x1,x2,y0,y1,y2) = (t^2*x0, t*x1, t*x2, t-2*y0, t^-1*y1, t^-1*y2)\n",
    "\n",
    "invariants:\n",
    "x0*y0\n",
    "x1*y1\n",
    "x2*y2\n",
    "x1*y2\n",
    "x2*y1\n",
    "x0*y1^2\n",
    "x0*y1*y2\n",
    "x0*y2^2\n",
    "y0*x1^2\n",
    "y0*x1*x2\n",
    "y0*x2^2\n",
    "```"
   ]
  },
  {
   "cell_type": "code",
   "execution_count": 173,
   "metadata": {
    "collapsed": false
   },
   "outputs": [],
   "source": [
    "#a = sympy.symbols(['a%d' %x for x in range(11)])\n",
    "q = sympy.symbols(tuple('q%d' %x for x in range(5)))\n",
    "a = sympy.symbols(tuple('a%d' %x for x in range(11)))\n",
    "b = sympy.symbols(tuple('b%d' %x for x in range(11)))\n",
    "emb_coords = q + a + b\n",
    "\n",
    "\n",
    "x = sympy.symbols('x0 x1 x2')\n",
    "y = sympy.symbols('y0 y1 y2')\n",
    "stdbrac = mv.Mv(x+y, {(x[0],y[0]):1, (x[1],y[1]):1}).brac"
   ]
  },
  {
   "cell_type": "code",
   "execution_count": 281,
   "metadata": {
    "collapsed": false
   },
   "outputs": [],
   "source": [
    "rmap = {\n",
    "    q[0]: x[0]*y[0], \n",
    "    q[1]: x[1]*y[1],\n",
    "    q[2]: x[2]*y[2],\n",
    "    q[3]: x[1]*y[2],\n",
    "    q[4]: x[2]*y[1],\n",
    "    a[0]: x[0]*(y[1]**2),\n",
    "    a[1]: x[0]*(y[1]*y[2]),\n",
    "    a[2]: x[0]*(y[2]**2),\n",
    "    b[0]: y[0]*(x[1]**2),\n",
    "    b[1]: y[0]*(x[1]*x[2]),\n",
    "    b[2]: y[0]*(x[2]**2)\n",
    "}\n",
    "\n",
    "embcoords, invariants = list(zip(*rmap.items()))"
   ]
  },
  {
   "cell_type": "code",
   "execution_count": 282,
   "metadata": {
    "collapsed": false
   },
   "outputs": [],
   "source": [
    "gbK = sympy.polys.groebner([ai-xi for (ai,xi) in rmap.items()])\n",
    "K = [g for g in gbK if not (set(g.as_poly().gens) - set(embcoords))]"
   ]
  },
  {
   "cell_type": "code",
   "execution_count": 283,
   "metadata": {
    "collapsed": false
   },
   "outputs": [],
   "source": [
    "KHom = {sympy.symbols('K%d' %x):y for (x,y) in enumerate(K)}\n",
    "\n",
    "kerCoords, kerPolys = list(zip(*KHom.items()))"
   ]
  },
  {
   "cell_type": "code",
   "execution_count": 284,
   "metadata": {
    "collapsed": false
   },
   "outputs": [],
   "source": [
    "P = {}\n",
    "for k1, k2 in product(rmap.keys(), rmap.keys()):\n",
    "    if (k2, k1) not in P.keys():\n",
    "        P[(k1, k2)] = brac(rmap[k1],rmap[k2])"
   ]
  },
  {
   "cell_type": "code",
   "execution_count": 288,
   "metadata": {
    "collapsed": false
   },
   "outputs": [],
   "source": [
    "lift = emb.lift(rmap, embcoords, x+y)"
   ]
  },
  {
   "cell_type": "code",
   "execution_count": 289,
   "metadata": {
    "collapsed": false
   },
   "outputs": [],
   "source": [
    "Pi = mv.Mv(embcoords, P).mapCoeffs(lambda x:lift(x))"
   ]
  },
  {
   "cell_type": "code",
   "execution_count": 290,
   "metadata": {
    "collapsed": false
   },
   "outputs": [
    {
     "data": {
      "text/plain": [
       "a0*da0*dq0 - 2*a0*da0*dq1 - 2*a1*da0*dq3 - a1*dq0*da1 + a1*dq1*da1 - a2*dq0*da2 + a2*dq3*da1 + 2*b0*db0*dq1 + b0*dq0*db0 + b1*db1*dq1 + b1*dq0*db1 - 2*b1*dq4*db0 + b2*dq0*db2 - b2*dq4*db1 + q1*(-4*q0 + q1)*da0*db0 - q2**2*db2*da2 - q2*q3*db1*da2 - q2*q4*db2*da1 + q2*(q0 - q1)*db1*da1 - q2*dq4*dq3 - q3**2*db0*da2 + q3*(2*q0 - q1)*db0*da1 + q3*dq3*dq1 + q4**2*da0*db2 + q4*(-2*q0 + q1)*da0*db1 - q4*dq4*dq1"
      ]
     },
     "execution_count": 290,
     "metadata": {},
     "output_type": "execute_result"
    }
   ],
   "source": [
    "Pi.mapCoeffs(lambda x:x.simplify())"
   ]
  },
  {
   "cell_type": "code",
   "execution_count": 291,
   "metadata": {
    "collapsed": false
   },
   "outputs": [],
   "source": [
    "PiDegs = Pi.deg()"
   ]
  },
  {
   "cell_type": "code",
   "execution_count": 362,
   "metadata": {
    "collapsed": false
   },
   "outputs": [
    {
     "data": {
      "text/plain": [
       "False"
      ]
     },
     "execution_count": 362,
     "metadata": {},
     "output_type": "execute_result"
    }
   ],
   "source": [
    "mv.sBr(Pi,Pi).sort().mapCoeffs(lambda x:x.simplify()/2) == 0"
   ]
  },
  {
   "cell_type": "code",
   "execution_count": 297,
   "metadata": {
    "collapsed": false
   },
   "outputs": [],
   "source": [
    "P = {}\n",
    "coeffs = []\n",
    "A = len(embcoords)\n",
    "index_cnt = 0\n",
    "for i0 in range(A):\n",
    "    for i1 in range(i0):\n",
    "        coeffs_tmp = sympy.symbols(['c_%d' %x for x in range(index_cnt, index_cnt + len(KHom.values()))])\n",
    "        coeffs.extend(coeffs_tmp)\n",
    "        index_cnt += len(KHom.values())\n",
    "        cterms = sum(x*y for (x,y) in zip(coeffs_tmp, KHom.values()))\n",
    "        P[(embcoords[i0], embcoords[i1])] = cterms\n"
   ]
  },
  {
   "cell_type": "code",
   "execution_count": 298,
   "metadata": {
    "collapsed": false
   },
   "outputs": [],
   "source": [
    "alpha = mv.Mv(embcoords, P).sort()"
   ]
  },
  {
   "cell_type": "code",
   "execution_count": 303,
   "metadata": {
    "collapsed": true
   },
   "outputs": [],
   "source": [
    "alpha_degs, Pi_degs = alpha.deg(), Pi.deg()"
   ]
  },
  {
   "cell_type": "code",
   "execution_count": 306,
   "metadata": {
    "collapsed": false
   },
   "outputs": [
    {
     "data": {
      "text/plain": [
       "(dict_keys([2, 3]), dict_keys([1, 2]))"
      ]
     },
     "execution_count": 306,
     "metadata": {},
     "output_type": "execute_result"
    }
   ],
   "source": [
    "alpha_degs.keys(), Pi_degs.keys()"
   ]
  },
  {
   "cell_type": "code",
   "execution_count": 307,
   "metadata": {
    "collapsed": false
   },
   "outputs": [],
   "source": [
    "Jac2 = mv.sBr(Pi_degs[1],alpha_degs[2]).sort()"
   ]
  },
  {
   "cell_type": "code",
   "execution_count": 312,
   "metadata": {
    "collapsed": false
   },
   "outputs": [],
   "source": [
    "system = []\n",
    "for f in Jac2._P.values():\n",
    "    system.extend(f.expand().as_poly(embcoords).coeffs())"
   ]
  },
  {
   "cell_type": "code",
   "execution_count": 330,
   "metadata": {
    "collapsed": false
   },
   "outputs": [],
   "source": [
    "coeff_in_system = set()\n",
    "for cond in syst:\n",
    "    if cond != 0:\n",
    "        coeff_in_system.update(set(cond.as_poly().gens))"
   ]
  },
  {
   "cell_type": "code",
   "execution_count": null,
   "metadata": {
    "collapsed": false
   },
   "outputs": [],
   "source": []
  },
  {
   "cell_type": "code",
   "execution_count": null,
   "metadata": {
    "collapsed": true
   },
   "outputs": [],
   "source": []
  }
 ],
 "metadata": {
  "kernelspec": {
   "display_name": "Python 3",
   "language": "python",
   "name": "python3"
  },
  "language_info": {
   "codemirror_mode": {
    "name": "ipython",
    "version": 3
   },
   "file_extension": ".py",
   "mimetype": "text/x-python",
   "name": "python",
   "nbconvert_exporter": "python",
   "pygments_lexer": "ipython3",
   "version": "3.5.2"
  }
 },
 "nbformat": 4,
 "nbformat_minor": 2
}
