{
 "cells": [
  {
   "cell_type": "code",
   "execution_count": 4,
   "metadata": {
    "collapsed": true
   },
   "outputs": [],
   "source": [
    "import sys\n",
    "from importlib import reload\n",
    "import sympy\n",
    "from itertools import product\n",
    "from collections import defaultdict"
   ]
  },
  {
   "cell_type": "code",
   "execution_count": 5,
   "metadata": {
    "collapsed": false
   },
   "outputs": [],
   "source": [
    "sys.path.insert(0, '..')"
   ]
  },
  {
   "cell_type": "code",
   "execution_count": 6,
   "metadata": {
    "collapsed": false
   },
   "outputs": [],
   "source": [
    "import multivector as mv\n",
    "import examples as ex\n",
    "import embedding as emb"
   ]
  },
  {
   "cell_type": "code",
   "execution_count": 61,
   "metadata": {
    "collapsed": false
   },
   "outputs": [],
   "source": [
    "gens = sympy.symbols(['x%d' %x for x in range(10)])\n",
    "p = mv.Mv(gens, {(g,):g**i for (i,g) in enumerate(gens)})\n",
    "q = mv.Mv(gens, {(g,gens[i]):g**i for (i,g) in enumerate(gens[::-1])})"
   ]
  },
  {
   "cell_type": "markdown",
   "metadata": {},
   "source": [
    "```\n",
    "t*(x1,x2,y1,y2) = (t^p*x1, t^q*x2, t^-p*y1, t^-q*y2)\n",
    "\n",
    "invariants:\n",
    "x1*y1\n",
    "x2*y2\n",
    "x1^q*y2^p\n",
    "x2^p*y1^q\n",
    "```"
   ]
  },
  {
   "cell_type": "code",
   "execution_count": 427,
   "metadata": {
    "collapsed": true
   },
   "outputs": [],
   "source": [
    "p, q = 7,9"
   ]
  },
  {
   "cell_type": "code",
   "execution_count": 428,
   "metadata": {
    "collapsed": false
   },
   "outputs": [],
   "source": [
    "a = sympy.symbols('a0 a1 a2 a3')\n",
    "x = sympy.symbols('x0 x1')\n",
    "y = sympy.symbols('y0 y1')"
   ]
  },
  {
   "cell_type": "code",
   "execution_count": 429,
   "metadata": {
    "collapsed": true
   },
   "outputs": [],
   "source": [
    "brac = mv.Mv(x+y, {(x[0],y[0]):-1, (x[1],y[1]):-1}).brac"
   ]
  },
  {
   "cell_type": "code",
   "execution_count": 430,
   "metadata": {
    "collapsed": false
   },
   "outputs": [],
   "source": [
    "rmap = {\n",
    "    a[0]: x[0]*y[0], \n",
    "    a[1]: x[1]*y[1],\n",
    "    a[2]: (x[0]**q)*(y[1]**p),\n",
    "    a[3]: (x[1]**p)*(y[0]**q)\n",
    "}\n",
    "\n",
    "embcoords, invariants = list(zip(*rmap.items()))\n"
   ]
  },
  {
   "cell_type": "code",
   "execution_count": 431,
   "metadata": {
    "collapsed": true
   },
   "outputs": [],
   "source": [
    "gb = sympy.polys.groebner(invariants)"
   ]
  },
  {
   "cell_type": "code",
   "execution_count": 432,
   "metadata": {
    "collapsed": false
   },
   "outputs": [],
   "source": [
    "P = {}\n",
    "for k1, k2 in product(rmap.keys(), rmap.keys()):\n",
    "    if (k2, k1) not in P.keys():\n",
    "        P[(k1, k2)] = brac(rmap[k1],rmap[k2])"
   ]
  },
  {
   "cell_type": "code",
   "execution_count": 433,
   "metadata": {
    "collapsed": false
   },
   "outputs": [
    {
     "data": {
      "text/plain": [
       "{(a2, a2): 0,\n",
       " (a3, a2): 49*x0**9*x1**6*y0**9*y1**6 - 81*x0**8*x1**7*y0**8*y1**7,\n",
       " (a0, a2): -9*x0**9*y1**7,\n",
       " (a3, a1): 7*x1**7*y0**9,\n",
       " (a0, a1): 0,\n",
       " (a2, a1): -7*x0**9*y1**7,\n",
       " (a1, a1): 0,\n",
       " (a3, a0): -9*x1**7*y0**9,\n",
       " (a0, a0): 0,\n",
       " (a3, a3): 0}"
      ]
     },
     "execution_count": 433,
     "metadata": {},
     "output_type": "execute_result"
    }
   ],
   "source": [
    "P"
   ]
  },
  {
   "cell_type": "code",
   "execution_count": 436,
   "metadata": {
    "collapsed": false
   },
   "outputs": [],
   "source": [
    "Pi = mv.Mv(embcoords, emb.lift_from_quotient(rmap, limit=20))"
   ]
  },
  {
   "cell_type": "code",
   "execution_count": 437,
   "metadata": {
    "collapsed": false
   },
   "outputs": [
    {
     "data": {
      "text/plain": [
       "a0*(-49*a0**8*a1**6 + 81*a0**7*a1**7)*da3*da2 + 9*a2*da0*da2 + 7*a2*da2*da1 + 9*a3*da3*da0 - 7*a3*da3*da1"
      ]
     },
     "execution_count": 437,
     "metadata": {},
     "output_type": "execute_result"
    }
   ],
   "source": [
    "# lifted bivector\n",
    "Pi"
   ]
  },
  {
   "cell_type": "code",
   "execution_count": 438,
   "metadata": {
    "collapsed": false
   },
   "outputs": [
    {
     "data": {
      "text/plain": [
       "0"
      ]
     },
     "execution_count": 438,
     "metadata": {},
     "output_type": "execute_result"
    }
   ],
   "source": [
    "# bivector is poisson\n",
    "mv.sBr(Pi,Pi).sort()"
   ]
  },
  {
   "cell_type": "markdown",
   "metadata": {},
   "source": [
    "what cohomology class is it in?\n",
    "\n",
    "d_Pi(X) = -[X, Pi]\n",
    "\n",
    "is there a vector field X such that -[X, Pi] = Pi ? (No)\n",
    "\n",
    "What is the poisson cohomology?\n",
    "What are the poisson vector fields? (mod hamiltonians)\n",
    "What are the poisson bivectors? (what are the coboundaries?)"
   ]
  },
  {
   "cell_type": "code",
   "execution_count": 439,
   "metadata": {
    "collapsed": false
   },
   "outputs": [],
   "source": [
    "vf = mv.sBr(Pi,mv.Mv(embcoords, {():a[2]}))"
   ]
  },
  {
   "cell_type": "code",
   "execution_count": 440,
   "metadata": {
    "collapsed": false
   },
   "outputs": [],
   "source": [
    "coeffs = sympy.symbols('f1 f2 f3 f4')"
   ]
  },
  {
   "cell_type": "code",
   "execution_count": 441,
   "metadata": {
    "collapsed": false
   },
   "outputs": [],
   "source": [
    "cond = (mv.sBr(Pi, mv.Mv(embcoords, {(e,):c for e,c in zip(embcoords, coeffs)})) - Pi).sort()"
   ]
  },
  {
   "cell_type": "code",
   "execution_count": 442,
   "metadata": {
    "collapsed": false
   },
   "outputs": [
    {
     "data": {
      "text/plain": [
       "(-9*a2 - 9*f3)*da0*da2 + (7*a2 + 7*f3)*da1*da2 + (-7*a3 - 7*f1)*da1*da3 + (9*a3 + 9*f1)*da0*da3 + (a0*f4*(-294*a0**8*a1**5 + 567*a0**7*a1**6) + a0*(-49*a0**8*a1**6 + 81*a0**7*a1**7) + f2*(-49*a0**8*a1**6 + 81*a0**7*a1**7 + a0*(-392*a0**7*a1**6 + 567*a0**6*a1**7)))*da2*da3"
      ]
     },
     "execution_count": 442,
     "metadata": {},
     "output_type": "execute_result"
    }
   ],
   "source": [
    "cond"
   ]
  },
  {
   "cell_type": "code",
   "execution_count": null,
   "metadata": {
    "collapsed": true
   },
   "outputs": [],
   "source": []
  }
 ],
 "metadata": {
  "kernelspec": {
   "display_name": "Python 3",
   "language": "python",
   "name": "python3"
  },
  "language_info": {
   "codemirror_mode": {
    "name": "ipython",
    "version": 3
   },
   "file_extension": ".py",
   "mimetype": "text/x-python",
   "name": "python",
   "nbconvert_exporter": "python",
   "pygments_lexer": "ipython3",
   "version": "3.5.2"
  }
 },
 "nbformat": 4,
 "nbformat_minor": 2
}
